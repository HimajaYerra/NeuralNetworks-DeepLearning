{
  "nbformat": 4,
  "nbformat_minor": 0,
  "metadata": {
    "colab": {
      "provenance": []
    },
    "kernelspec": {
      "name": "python3",
      "display_name": "Python 3"
    },
    "language_info": {
      "name": "python"
    },
    "accelerator": "GPU",
    "gpuClass": "standard"
  },
  "cells": [
    {
      "cell_type": "code",
      "execution_count": 1,
      "metadata": {
        "id": "1QrEKlsBAjFw"
      },
      "outputs": [],
      "source": [
        "import pandas as pd\n"
      ]
    },
    {
      "cell_type": "code",
      "source": [
        "blacklist = pd.read_csv(\"phishing_database.csv\")\n",
        "whitelist = 'whitelist.txt'\n",
        "urls = {}\n",
        "#Assign 0 for non-malicious and 1 as malicious for supervised learning.\n",
        "for url in blacklist['url']:\n",
        "  urls[url] = 1\n",
        "    \n",
        "with open(whitelist, 'r') as f:\n",
        "  lines = f.read().splitlines()\n",
        "  for url in lines:\n",
        "    urls[url] = 0\n",
        "\n",
        "print(urls[\"google.com\"])"
      ],
      "metadata": {
        "colab": {
          "base_uri": "https://localhost:8080/"
        },
        "id": "xY9lqJ5VAlmM",
        "outputId": "dddaaff4-ffab-4f35-bd5e-87972ad30b4e"
      },
      "execution_count": 2,
      "outputs": [
        {
          "output_type": "stream",
          "name": "stdout",
          "text": [
            "0\n"
          ]
        }
      ]
    },
    {
      "cell_type": "code",
      "source": [
        "from __future__ import print_function\n",
        "import keras\n",
        "from keras.preprocessing.text import Tokenizer\n",
        "from keras.models import load_model\n",
        "from keras.models import Sequential\n",
        "from keras.layers import LSTM, GRU, Embedding, Dense, Flatten, Bidirectional\n",
        "from keras.layers.core import Dense, Dropout, Activation\n",
        "import numpy as np"
      ],
      "metadata": {
        "id": "4slZyRr2By5l"
      },
      "execution_count": 3,
      "outputs": []
    },
    {
      "cell_type": "code",
      "source": [
        "samples = []\n",
        "labels = []\n",
        "for k, v in urls.items():\n",
        "    samples.append(k)\n",
        "    labels.append(v)\n",
        "    #print(k, v)\n",
        "    \n",
        "print(labels.count(1))\n",
        "print(labels.count(0))\n"
      ],
      "metadata": {
        "colab": {
          "base_uri": "https://localhost:8080/"
        },
        "id": "E_vUoJUCB2D0",
        "outputId": "0fa3ecfd-3dc7-4df0-ba1a-96074c03e0a3"
      },
      "execution_count": 4,
      "outputs": [
        {
          "output_type": "stream",
          "name": "stdout",
          "text": [
            "29769\n",
            "38228\n"
          ]
        }
      ]
    },
    {
      "cell_type": "code",
      "source": [
        "max_chars = 20000\n",
        "maxlen = 128"
      ],
      "metadata": {
        "id": "ukYI5cjjCOxd"
      },
      "execution_count": 5,
      "outputs": []
    },
    {
      "cell_type": "code",
      "source": [
        "tokenizer = Tokenizer(num_words=max_chars, char_level=True)\n",
        "tokenizer.fit_on_texts(samples)\n",
        "sequences = tokenizer.texts_to_sequences(samples)\n",
        "word_index = tokenizer.word_index\n",
        "print('Found %s unique tokens.' % len(word_index))"
      ],
      "metadata": {
        "colab": {
          "base_uri": "https://localhost:8080/"
        },
        "id": "Fkoq8rx2CRFk",
        "outputId": "a66719f6-0838-4839-acd6-7bd7b19b999d"
      },
      "execution_count": 6,
      "outputs": [
        {
          "output_type": "stream",
          "name": "stdout",
          "text": [
            "Found 69 unique tokens.\n"
          ]
        }
      ]
    },
    {
      "cell_type": "code",
      "source": [
        "from tensorflow.keras.preprocessing.sequence import pad_sequences\n",
        "\n",
        "data = pad_sequences(sequences, maxlen=maxlen)\n",
        "\n",
        "labels = np.asarray(labels)\n",
        "print('Shape of data tensor:', data.shape)\n",
        "print('Shape of label tensor:', labels.shape)"
      ],
      "metadata": {
        "colab": {
          "base_uri": "https://localhost:8080/"
        },
        "id": "e8Jjdg1jCX5V",
        "outputId": "6b32c84f-f79f-4add-c5a1-902f74b3d2f4"
      },
      "execution_count": 7,
      "outputs": [
        {
          "output_type": "stream",
          "name": "stdout",
          "text": [
            "Shape of data tensor: (67997, 128)\n",
            "Shape of label tensor: (67997,)\n"
          ]
        }
      ]
    },
    {
      "cell_type": "code",
      "source": [
        "training_samples = int(len(samples) * 0.80)\n",
        "validation_samples = int(len(labels) * 0.10)\n",
        "test_samples = int(len(labels) * 0.10)\n",
        "print(training_samples, validation_samples, test_samples)"
      ],
      "metadata": {
        "colab": {
          "base_uri": "https://localhost:8080/"
        },
        "id": "LKPbaqKUCYm1",
        "outputId": "fe689323-17cf-44b6-e544-5f59effeb1b9"
      },
      "execution_count": 8,
      "outputs": [
        {
          "output_type": "stream",
          "name": "stdout",
          "text": [
            "54397 6799 6799\n"
          ]
        }
      ]
    },
    {
      "cell_type": "code",
      "source": [
        "indices = np.arange(data.shape[0])\n",
        "np.random.shuffle(indices)\n",
        "data = data[indices]\n",
        "labels = labels[indices]"
      ],
      "metadata": {
        "id": "5ulN70R7Cn5_"
      },
      "execution_count": 9,
      "outputs": []
    },
    {
      "cell_type": "code",
      "source": [
        "x = data[:training_samples]\n",
        "y = labels[:training_samples]\n",
        "x_test = data[training_samples: training_samples + validation_samples]\n",
        "y_test = labels[training_samples: training_samples + validation_samples]"
      ],
      "metadata": {
        "id": "5elXvlr5Crc_"
      },
      "execution_count": 10,
      "outputs": []
    },
    {
      "cell_type": "code",
      "source": [
        "callbacks_list = [\n",
        "    keras.callbacks.ModelCheckpoint(\n",
        "    filepath='lstmchar256256128test.h5',\n",
        "    monitor='val_loss',\n",
        "    save_best_only=True\n",
        "    ),\n",
        "    keras.callbacks.EarlyStopping(\n",
        "    monitor='val_loss', \n",
        "    min_delta=0,\n",
        "    patience=2, \n",
        "    mode='auto',\n",
        "    baseline=None,\n",
        "    )\n",
        "]"
      ],
      "metadata": {
        "id": "pJpXTa6vCvbf"
      },
      "execution_count": 11,
      "outputs": []
    },
    {
      "cell_type": "code",
      "source": [
        "from keras.layers import TimeDistributed,Convolution2D, MaxPooling2D\n",
        "num_chars = len(tokenizer.word_index)+1\n",
        "\n",
        "embedding_vector_length = 128\n",
        "# Create model for training.\n",
        "model = Sequential()\n",
        "  \n",
        "model.add(TimeDistributed(Convolution2D(32, (7,7), strides=(2, 2),\n",
        "      padding='same', activation='relu', input_shape=(num_chars, embedding_vector_length,maxlen))))\n",
        "model.add(TimeDistributed(Convolution2D(32, (3,3),\n",
        "      kernel_initializer=\"he_normal\", activation='relu')))\n",
        "\n",
        "model.add(TimeDistributed(MaxPooling2D((2, 2), strides=(2, 2))))\n",
        "\n",
        "model.add(TimeDistributed(Convolution2D(64, (3,3),\n",
        "      padding='same', activation='relu')))\n",
        "model.add(TimeDistributed(Convolution2D(64, (3,3),\n",
        "      padding='same', activation='relu')))\n",
        "model.add(TimeDistributed(MaxPooling2D((2, 2), strides=(2, 2))))\n",
        "\n",
        "model.add(TimeDistributed(Convolution2D(128, (3,3),\n",
        "      padding='same', activation='relu')))\n",
        "model.add(TimeDistributed(Convolution2D(128, (3,3),\n",
        "      padding='same', activation='relu')))\n",
        "model.add(TimeDistributed(MaxPooling2D((2, 2), strides=(2, 2))))\n",
        "\n",
        "model.add(TimeDistributed(Convolution2D(256, (3,3),\n",
        "      padding='same', activation='relu')))\n",
        "model.add(TimeDistributed(Convolution2D(256, (3,3),\n",
        "      padding='same', activation='relu')))\n",
        "model.add(TimeDistributed(MaxPooling2D((2, 2), strides=(2, 2))))\n",
        "\n",
        "model.add(TimeDistributed(Flatten()))\n",
        "\n",
        "model.add(Dropout(0.7))\n",
        "model.add(LSTM(512, return_sequences=False, dropout=0.5))\n",
        "model.add(Dense(1, activation='softmax'))\n"
      ],
      "metadata": {
        "id": "_23SeHxovpmO"
      },
      "execution_count": 12,
      "outputs": []
    },
    {
      "cell_type": "code",
      "source": [],
      "metadata": {
        "id": "4JL_Czbd7UFs"
      },
      "execution_count": 12,
      "outputs": []
    },
    {
      "cell_type": "code",
      "source": [
        "num_chars = len(tokenizer.word_index)+1\n",
        "\n",
        "embedding_vector_length = 128\n",
        "\n",
        "# Create model for training.\n",
        "model1 = Sequential()\n",
        "model1.add(Embedding(num_chars, embedding_vector_length, input_length=maxlen))\n",
        "#model1.add((LSTM(256, dropout=0.3, recurrent_dropout=0.3, return_sequences=True)))\n",
        "model1.add(LSTM(256, dropout=0.3,  return_sequences=True))\n",
        "model1.add(LSTM(128, dropout=0.3, recurrent_dropout=0.3))\n",
        "model1.add(Dense(1, activation='sigmoid'))\n",
        "\n",
        "model1.summary()"
      ],
      "metadata": {
        "colab": {
          "base_uri": "https://localhost:8080/"
        },
        "id": "Wh7c7YGNzY-D",
        "outputId": "79b4f55d-1ef7-4217-bd93-e00b88a34d38"
      },
      "execution_count": 13,
      "outputs": [
        {
          "output_type": "stream",
          "name": "stderr",
          "text": [
            "WARNING:tensorflow:Layer lstm_2 will not use cuDNN kernels since it doesn't meet the criteria. It will use a generic GPU kernel as fallback when running on GPU.\n"
          ]
        },
        {
          "output_type": "stream",
          "name": "stdout",
          "text": [
            "Model: \"sequential_1\"\n",
            "_________________________________________________________________\n",
            " Layer (type)                Output Shape              Param #   \n",
            "=================================================================\n",
            " embedding (Embedding)       (None, 128, 128)          8960      \n",
            "                                                                 \n",
            " lstm_1 (LSTM)               (None, 128, 256)          394240    \n",
            "                                                                 \n",
            " lstm_2 (LSTM)               (None, 128)               197120    \n",
            "                                                                 \n",
            " dense_1 (Dense)             (None, 1)                 129       \n",
            "                                                                 \n",
            "=================================================================\n",
            "Total params: 600,449\n",
            "Trainable params: 600,449\n",
            "Non-trainable params: 0\n",
            "_________________________________________________________________\n"
          ]
        }
      ]
    },
    {
      "cell_type": "code",
      "source": [
        "num_chars = len(tokenizer.word_index)+1\n",
        "\n",
        "embedding_vector_length = 128\n",
        "\n",
        "# Create model for training.\n",
        "model1 = Sequential()\n",
        "model1.add(Embedding(num_chars, embedding_vector_length, input_length=maxlen))\n",
        "model1.add(Bidirectional(LSTM(256, dropout=0.3, recurrent_dropout=0.3, return_sequences=True)))\n",
        "model1.add(Bidirectional(LSTM(256, dropout=0.3, recurrent_dropout=0.3, return_sequences=True)))\n",
        "model1.add(Bidirectional(LSTM(128, dropout=0.3, recurrent_dropout=0.3)))\n",
        "model1.add(Dense(1, activation='sigmoid'))\n",
        "\n",
        "model1.summary()"
      ],
      "metadata": {
        "colab": {
          "base_uri": "https://localhost:8080/"
        },
        "id": "JNxyQnBdC8uk",
        "outputId": "d7fe0e36-329e-4584-e486-d74e15cbb8a7"
      },
      "execution_count": 14,
      "outputs": [
        {
          "output_type": "stream",
          "name": "stderr",
          "text": [
            "WARNING:tensorflow:Layer lstm_3 will not use cuDNN kernels since it doesn't meet the criteria. It will use a generic GPU kernel as fallback when running on GPU.\n",
            "WARNING:tensorflow:Layer lstm_3 will not use cuDNN kernels since it doesn't meet the criteria. It will use a generic GPU kernel as fallback when running on GPU.\n",
            "WARNING:tensorflow:Layer lstm_3 will not use cuDNN kernels since it doesn't meet the criteria. It will use a generic GPU kernel as fallback when running on GPU.\n",
            "WARNING:tensorflow:Layer lstm_4 will not use cuDNN kernels since it doesn't meet the criteria. It will use a generic GPU kernel as fallback when running on GPU.\n",
            "WARNING:tensorflow:Layer lstm_4 will not use cuDNN kernels since it doesn't meet the criteria. It will use a generic GPU kernel as fallback when running on GPU.\n",
            "WARNING:tensorflow:Layer lstm_4 will not use cuDNN kernels since it doesn't meet the criteria. It will use a generic GPU kernel as fallback when running on GPU.\n",
            "WARNING:tensorflow:Layer lstm_5 will not use cuDNN kernels since it doesn't meet the criteria. It will use a generic GPU kernel as fallback when running on GPU.\n",
            "WARNING:tensorflow:Layer lstm_5 will not use cuDNN kernels since it doesn't meet the criteria. It will use a generic GPU kernel as fallback when running on GPU.\n",
            "WARNING:tensorflow:Layer lstm_5 will not use cuDNN kernels since it doesn't meet the criteria. It will use a generic GPU kernel as fallback when running on GPU.\n"
          ]
        },
        {
          "output_type": "stream",
          "name": "stdout",
          "text": [
            "Model: \"sequential_2\"\n",
            "_________________________________________________________________\n",
            " Layer (type)                Output Shape              Param #   \n",
            "=================================================================\n",
            " embedding_1 (Embedding)     (None, 128, 128)          8960      \n",
            "                                                                 \n",
            " bidirectional (Bidirectiona  (None, 128, 512)         788480    \n",
            " l)                                                              \n",
            "                                                                 \n",
            " bidirectional_1 (Bidirectio  (None, 128, 512)         1574912   \n",
            " nal)                                                            \n",
            "                                                                 \n",
            " bidirectional_2 (Bidirectio  (None, 256)              656384    \n",
            " nal)                                                            \n",
            "                                                                 \n",
            " dense_2 (Dense)             (None, 1)                 257       \n",
            "                                                                 \n",
            "=================================================================\n",
            "Total params: 3,028,993\n",
            "Trainable params: 3,028,993\n",
            "Non-trainable params: 0\n",
            "_________________________________________________________________\n"
          ]
        }
      ]
    },
    {
      "cell_type": "code",
      "source": [
        "model1.compile(optimizer='adam',\n",
        "            loss='binary_crossentropy',\n",
        "            metrics=['accuracy'])"
      ],
      "metadata": {
        "id": "c7QzDQ56DBD-"
      },
      "execution_count": 15,
      "outputs": []
    },
    {
      "cell_type": "code",
      "source": [
        "model1.summary()"
      ],
      "metadata": {
        "colab": {
          "base_uri": "https://localhost:8080/"
        },
        "id": "-4FNDEmt2zAS",
        "outputId": "4a8aeb87-4df5-4ec8-f707-8bcf0f5308eb"
      },
      "execution_count": 18,
      "outputs": [
        {
          "output_type": "stream",
          "name": "stdout",
          "text": [
            "Model: \"sequential_2\"\n",
            "_________________________________________________________________\n",
            " Layer (type)                Output Shape              Param #   \n",
            "=================================================================\n",
            " embedding_1 (Embedding)     (None, 128, 128)          8960      \n",
            "                                                                 \n",
            " bidirectional (Bidirectiona  (None, 128, 512)         788480    \n",
            " l)                                                              \n",
            "                                                                 \n",
            " bidirectional_1 (Bidirectio  (None, 128, 512)         1574912   \n",
            " nal)                                                            \n",
            "                                                                 \n",
            " bidirectional_2 (Bidirectio  (None, 256)              656384    \n",
            " nal)                                                            \n",
            "                                                                 \n",
            " dense_2 (Dense)             (None, 1)                 257       \n",
            "                                                                 \n",
            "=================================================================\n",
            "Total params: 3,028,993\n",
            "Trainable params: 3,028,993\n",
            "Non-trainable params: 0\n",
            "_________________________________________________________________\n"
          ]
        }
      ]
    },
    {
      "cell_type": "code",
      "source": [
        "from keras.utils.vis_utils import plot_model\n",
        "\n",
        "# plot the model and save it as an image\n",
        "plot_model(model1, to_file='model.png', show_shapes=True)"
      ],
      "metadata": {
        "colab": {
          "base_uri": "https://localhost:8080/",
          "height": 644
        },
        "id": "j5iaM5t61yiv",
        "outputId": "23924780-9d4e-46ea-c46b-671409be4f80"
      },
      "execution_count": 19,
      "outputs": [
        {
          "output_type": "execute_result",
          "data": {
            "image/png": "[encoded data removed]",
            "text/plain": [
              "<IPython.core.display.Image object>"
            ]
          },
          "metadata": {},
          "execution_count": 19
        }
      ]
    },
    {
      "cell_type": "code",
      "source": [
        "# Train.\n",
        "history = model1.fit(x, y,\n",
        "        epochs=3,\n",
        "        batch_size=100,\n",
        "        #callbacks=callbacks_list,\n",
        "        validation_split=0.20,\n",
        "        shuffle=True\n",
        "        )"
      ],
      "metadata": {
        "colab": {
          "base_uri": "https://localhost:8080/"
        },
        "id": "Vi3H2mc8DDwx",
        "outputId": "ff5dae27-f5cf-468a-d909-c4b6475b05b5"
      },
      "execution_count": null,
      "outputs": [
        {
          "output_type": "stream",
          "name": "stdout",
          "text": [
            "Epoch 1/3\n",
            "436/436 [==============================] - 1431s 3s/step - loss: 0.3462 - accuracy: 0.8550 - val_loss: 0.4692 - val_accuracy: 0.7910\n",
            "Epoch 2/3\n",
            "436/436 [==============================] - 1410s 3s/step - loss: 0.3024 - accuracy: 0.8680 - val_loss: 0.1647 - val_accuracy: 0.9373\n",
            "Epoch 3/3\n",
            "321/436 [=====================>........] - ETA: 6:04 - loss: 0.1368 - accuracy: 0.9520"
          ]
        }
      ]
    },
    {
      "cell_type": "code",
      "source": [
        "score, acc = model1.evaluate(x_test, y_test, verbose=1, batch_size=1024)\n",
        "\n",
        "print(\"Model Accuracy: {:0.2f}%\".format(acc * 100))"
      ],
      "metadata": {
        "id": "pOcJOzkyDHWs"
      },
      "execution_count": null,
      "outputs": []
    },
    {
      "cell_type": "code",
      "source": [
        "from sklearn.metrics import confusion_matrix, classification_report\n",
        "import matplotlib.pyplot as plt\n",
        "\n",
        "# Predict the test data using the trained model\n",
        "y_pred = model1.predict(x_test)\n",
        "y_pred_classes = np.round(y_pred)"
      ],
      "metadata": {
        "id": "zUEooPF0mxQh"
      },
      "execution_count": null,
      "outputs": []
    },
    {
      "cell_type": "code",
      "source": [
        "\n",
        "# Confusion matrix\n",
        "cm = confusion_matrix(y_test, y_pred_classes)\n",
        "print(\"Confusion Matrix:\")\n",
        "print(cm)\n",
        "\n",
        "# Classification report\n",
        "cr = classification_report(y_test, y_pred_classes)\n",
        "print(\"Classification Report:\")\n",
        "print(cr)"
      ],
      "metadata": {
        "id": "AHRAxJigmzzi"
      },
      "execution_count": null,
      "outputs": []
    },
    {
      "cell_type": "code",
      "source": [
        "# Plot accuracy and loss during training\n",
        "plt.plot(history.history['accuracy'])\n",
        "plt.plot(history.history['val_accuracy'])\n",
        "plt.title('Model Accuracy')\n",
        "plt.ylabel('Accuracy')\n",
        "plt.xlabel('Epoch')\n",
        "plt.legend(['Train', 'Validation'], loc='upper left')\n",
        "plt.show()"
      ],
      "metadata": {
        "id": "w9fj3W62m36J"
      },
      "execution_count": null,
      "outputs": []
    },
    {
      "cell_type": "code",
      "source": [
        "from sklearn.metrics import roc_curve, auc\n",
        "\n",
        "# compute ROC curve and AUC for positive class\n",
        "fpr, tpr, thresholds = roc_curve(y_test, y_pred_classes)\n",
        "roc_auc = auc(fpr, tpr)\n",
        "\n",
        "# plot ROC curve\n",
        "plt.plot(fpr, tpr, label='ROC curve (AUC = %0.2f)' % roc_auc)\n",
        "plt.plot([0, 1], [0, 1], 'k--')\n",
        "plt.xlim(0, 0.2)\n",
        "plt.ylim(0.8, 1)\n",
        "plt.xlabel('False Positive Rate')\n",
        "plt.ylabel('True Positive Rate')\n",
        "plt.title('ROC-AUC Curve')\n",
        "plt.legend(loc='lower right')\n",
        "plt.show()"
      ],
      "metadata": {
        "id": "VihCBRWlHcvn"
      },
      "execution_count": null,
      "outputs": []
    },
    {
      "cell_type": "code",
      "source": [
        "# Plot confusion matrix\n",
        "plt.imshow(cm, interpolation='nearest', cmap=plt.cm.Blues)\n",
        "plt.colorbar()\n",
        "plt.title(\"Confusion Matrix\")\n",
        "plt.xlabel(\"Predicted Label\")\n",
        "plt.ylabel(\"True Label\")\n",
        "tick_marks = np.arange(len(set(labels)))\n",
        "plt.xticks(tick_marks, ['Non-malicious', 'Malicious'], rotation=45)\n",
        "plt.yticks(tick_marks, ['Non-malicious', 'Malicious'])\n",
        "plt.tight_layout()\n",
        "plt.show()\n"
      ],
      "metadata": {
        "id": "DHkJF8zKyegO"
      },
      "execution_count": null,
      "outputs": []
    },
    {
      "cell_type": "code",
      "source": [],
      "metadata": {
        "id": "-0IJWtCpxvOx"
      },
      "execution_count": null,
      "outputs": []
    }
  ]
}
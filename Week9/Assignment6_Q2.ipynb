{
  "nbformat": 4,
  "nbformat_minor": 0,
  "metadata": {
    "colab": {
      "provenance": []
    },
    "kernelspec": {
      "name": "python3",
      "display_name": "Python 3"
    },
    "language_info": {
      "name": "python"
    }
  },
  "cells": [
    {
      "cell_type": "code",
      "source": [
        "from keras import Sequential\n",
        "from keras.datasets import mnist\n",
        "import numpy as np\n",
        "from keras.layers import Dense\n",
        "from keras.utils import to_categorical\n",
        "import matplotlib.pyplot as plt"
      ],
      "metadata": {
        "id": "Y2ejlFdH-Exq"
      },
      "execution_count": 4,
      "outputs": []
    },
    {
      "cell_type": "code",
      "execution_count": 6,
      "metadata": {
        "colab": {
          "base_uri": "https://localhost:8080/"
        },
        "id": "3sK8VWeQ-CQu",
        "outputId": "ce450583-6894-41d7-f991-255bc20cded3"
      },
      "outputs": [
        {
          "output_type": "stream",
          "name": "stdout",
          "text": [
            "(28, 28)\n",
            "[5 0 4 ... 5 6 8]\n",
            "784\n",
            "Epoch 1/10\n",
            "235/235 [==============================] - 7s 27ms/step - loss: 0.2935 - accuracy: 0.9093 - val_loss: 0.1287 - val_accuracy: 0.9608\n",
            "Epoch 2/10\n",
            "235/235 [==============================] - 7s 31ms/step - loss: 0.1014 - accuracy: 0.9688 - val_loss: 0.0912 - val_accuracy: 0.9720\n",
            "Epoch 3/10\n",
            "235/235 [==============================] - 8s 35ms/step - loss: 0.0654 - accuracy: 0.9797 - val_loss: 0.0862 - val_accuracy: 0.9738\n",
            "Epoch 4/10\n",
            "235/235 [==============================] - 7s 32ms/step - loss: 0.0447 - accuracy: 0.9855 - val_loss: 0.1095 - val_accuracy: 0.9658\n",
            "Epoch 5/10\n",
            "235/235 [==============================] - 6s 27ms/step - loss: 0.0324 - accuracy: 0.9897 - val_loss: 0.1032 - val_accuracy: 0.9698\n",
            "Epoch 6/10\n",
            "235/235 [==============================] - 6s 26ms/step - loss: 0.0244 - accuracy: 0.9927 - val_loss: 0.0730 - val_accuracy: 0.9800\n",
            "Epoch 7/10\n",
            "235/235 [==============================] - 6s 27ms/step - loss: 0.0179 - accuracy: 0.9944 - val_loss: 0.0672 - val_accuracy: 0.9814\n",
            "Epoch 8/10\n",
            "235/235 [==============================] - 6s 26ms/step - loss: 0.0112 - accuracy: 0.9967 - val_loss: 0.0646 - val_accuracy: 0.9838\n",
            "Epoch 9/10\n",
            "235/235 [==============================] - 6s 25ms/step - loss: 0.0101 - accuracy: 0.9969 - val_loss: 0.0751 - val_accuracy: 0.9807\n",
            "Epoch 10/10\n",
            "235/235 [==============================] - 7s 28ms/step - loss: 0.0073 - accuracy: 0.9977 - val_loss: 0.1135 - val_accuracy: 0.9745\n"
          ]
        }
      ],
      "source": [
        "(train_images,train_labels),(test_images, test_labels) = mnist.load_data()\n",
        "\n",
        "print(train_images.shape[1:])\n",
        "print(train_labels)\n",
        "#process the data\n",
        "#1. convert each image of shape 28*28 to 784 dimensional which will be fed to the network as a single feature\n",
        "dimData = np.prod(train_images.shape[1:])\n",
        "print(dimData)\n",
        "train_data = train_images.reshape(train_images.shape[0],dimData)\n",
        "test_data = test_images.reshape(test_images.shape[0],dimData)\n",
        "\n",
        "#convert data to float and scale values between 0 and 1\n",
        "train_data = train_data.astype('float')\n",
        "test_data = test_data.astype('float')\n",
        "#scale data\n",
        "train_data /=255.0\n",
        "test_data /=255.0\n",
        "#change the labels frominteger to one-hot encoding. to_categorical is doing the same thing as LabelEncoder()\n",
        "train_labels_one_hot = to_categorical(train_labels)\n",
        "test_labels_one_hot = to_categorical(test_labels)\n",
        "\n",
        "#creating network\n",
        "model = Sequential()\n",
        "model.add(Dense(512, activation='relu', input_shape=(dimData,)))\n",
        "model.add(Dense(512, activation='relu'))\n",
        "model.add(Dense(10, activation='softmax'))\n",
        "\n",
        "model.compile(optimizer='rmsprop', loss='categorical_crossentropy', metrics=['accuracy'])\n",
        "history = model.fit(train_data, train_labels_one_hot, batch_size=256, epochs=10, verbose=1,\n",
        "                   validation_data=(test_data, test_labels_one_hot))"
      ]
    },
    {
      "cell_type": "code",
      "source": [
        "# Plot training & validation accuracy values\n",
        "plt.plot(history.history['accuracy'])\n",
        "plt.plot(history.history['val_accuracy'])\n",
        "plt.title('Model accuracy')\n",
        "plt.ylabel('Accuracy')\n",
        "plt.xlabel('Epoch')\n",
        "plt.legend(['Train', 'Validation'], loc='upper left')\n",
        "plt.show()\n",
        "\n",
        "# Plot training & validation loss values\n",
        "plt.plot(history.history['loss'])\n",
        "plt.plot(history.history['val_loss'])\n",
        "plt.title('Model loss')\n",
        "plt.ylabel('Loss')\n",
        "plt.xlabel('Epoch')\n",
        "plt.legend(['Train', 'Validation'], loc='upper left')\n",
        "plt.show()"
      ],
      "metadata": {
        "colab": {
          "base_uri": "https://localhost:8080/",
          "height": 573
        },
        "id": "jGuKxdzZbYHH",
        "outputId": "36dce15f-3a68-44c8-c37d-21a1512975bc"
      },
      "execution_count": 9,
      "outputs": [
        {
          "output_type": "display_data",
          "data": {
            "text/plain": [
              "<Figure size 432x288 with 1 Axes>"
            ],
            "image/png": "[encoded data removed]"
          },
          "metadata": {
            "needs_background": "light"
          }
        },
        {
          "output_type": "display_data",
          "data": {
            "text/plain": [
              "<Figure size 432x288 with 1 Axes>"
            ],
            "image/png": "[encoded data removed]"
          },
          "metadata": {
            "needs_background": "light"
          }
        }
      ]
    },
    {
      "cell_type": "code",
      "source": [
        "\n",
        "# Plot the first image in the test dataset\n",
        "plt.imshow(test_images[0], cmap='gray')\n",
        "plt.show()"
      ],
      "metadata": {
        "colab": {
          "base_uri": "https://localhost:8080/",
          "height": 265
        },
        "id": "Mp_nbpxgb-E6",
        "outputId": "323773fa-a0c8-4324-9213-3f4cdb652c82"
      },
      "execution_count": 10,
      "outputs": [
        {
          "output_type": "display_data",
          "data": {
            "text/plain": [
              "<Figure size 432x288 with 1 Axes>"
            ],
            "image/png": "[encoded data removed]"
          },
          "metadata": {
            "needs_background": "light"
          }
        }
      ]
    },
    {
      "cell_type": "code",
      "source": [
        "image = test_data[0].reshape(1, dimData)\n",
        "prediction = model.predict(image)\n",
        "print(\"Model prediction: \", np.argmax(prediction))"
      ],
      "metadata": {
        "colab": {
          "base_uri": "https://localhost:8080/"
        },
        "id": "phNuQBTfcDb8",
        "outputId": "c67da3e1-aa24-460f-d845-52af7c0d8490"
      },
      "execution_count": 11,
      "outputs": [
        {
          "output_type": "stream",
          "name": "stdout",
          "text": [
            "1/1 [==============================] - 0s 91ms/step\n",
            "Model prediction:  7\n"
          ]
        }
      ]
    },
    {
      "cell_type": "code",
      "source": [
        "dimData = np.prod(train_images.shape[1:])\n",
        "print(dimData)\n",
        "train_data = train_images.reshape(train_images.shape[0],dimData)\n",
        "test_data = test_images.reshape(test_images.shape[0],dimData)\n",
        "\n",
        "#convert data to float and scale values between 0 and 1\n",
        "train_data = train_data.astype('float')\n",
        "test_data = test_data.astype('float')\n",
        "#scale data\n",
        "#train_data /=255.0\n",
        "#test_data /=255.0\n",
        "#change the labels frominteger to one-hot encoding. to_categorical is doing the same thing as LabelEncoder()\n",
        "train_labels_one_hot = to_categorical(train_labels)\n",
        "test_labels_one_hot = to_categorical(test_labels)\n",
        "\n",
        "#creating network\n",
        "model = Sequential()\n",
        "model.add(Dense(512, activation='tanh', input_shape=(dimData,)))\n",
        "model.add(Dense(256, activation='tanh'))\n",
        "model.add(Dense(128, activation='tanh'))\n",
        "model.add(Dense(10, activation='softmax'))\n",
        "\n",
        "model.compile(optimizer='rmsprop', loss='categorical_crossentropy', metrics=['accuracy'])\n",
        "history = model.fit(train_data, train_labels_one_hot, batch_size=256, epochs=10, verbose=1,\n",
        "                   validation_data=(test_data, test_labels_one_hot))"
      ],
      "metadata": {
        "colab": {
          "base_uri": "https://localhost:8080/"
        },
        "id": "rKNu0YONcJ6W",
        "outputId": "3a3553fe-51ee-4e6d-ef59-b7aa17166943"
      },
      "execution_count": 15,
      "outputs": [
        {
          "output_type": "stream",
          "name": "stdout",
          "text": [
            "784\n",
            "Epoch 1/10\n",
            "235/235 [==============================] - 8s 31ms/step - loss: 0.3936 - accuracy: 0.8778 - val_loss: 0.2448 - val_accuracy: 0.9233\n",
            "Epoch 2/10\n",
            "235/235 [==============================] - 5s 22ms/step - loss: 0.2111 - accuracy: 0.9341 - val_loss: 0.1763 - val_accuracy: 0.9450\n",
            "Epoch 3/10\n",
            "235/235 [==============================] - 7s 29ms/step - loss: 0.1663 - accuracy: 0.9483 - val_loss: 0.1719 - val_accuracy: 0.9444\n",
            "Epoch 4/10\n",
            "235/235 [==============================] - 5s 21ms/step - loss: 0.1433 - accuracy: 0.9554 - val_loss: 0.1467 - val_accuracy: 0.9524\n",
            "Epoch 5/10\n",
            "235/235 [==============================] - 6s 24ms/step - loss: 0.1262 - accuracy: 0.9607 - val_loss: 0.1352 - val_accuracy: 0.9583\n",
            "Epoch 6/10\n",
            "235/235 [==============================] - 5s 23ms/step - loss: 0.1148 - accuracy: 0.9641 - val_loss: 0.1265 - val_accuracy: 0.9625\n",
            "Epoch 7/10\n",
            "235/235 [==============================] - 5s 22ms/step - loss: 0.1047 - accuracy: 0.9673 - val_loss: 0.1054 - val_accuracy: 0.9684\n",
            "Epoch 8/10\n",
            "235/235 [==============================] - 6s 26ms/step - loss: 0.1014 - accuracy: 0.9683 - val_loss: 0.1172 - val_accuracy: 0.9625\n",
            "Epoch 9/10\n",
            "235/235 [==============================] - 5s 21ms/step - loss: 0.0925 - accuracy: 0.9710 - val_loss: 0.1026 - val_accuracy: 0.9685\n",
            "Epoch 10/10\n",
            "235/235 [==============================] - 6s 26ms/step - loss: 0.0877 - accuracy: 0.9722 - val_loss: 0.1125 - val_accuracy: 0.9644\n"
          ]
        }
      ]
    }
  ]
}
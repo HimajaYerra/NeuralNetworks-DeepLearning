{
  "nbformat": 4,
  "nbformat_minor": 0,
  "metadata": {
    "colab": {
      "provenance": []
    },
    "kernelspec": {
      "name": "python3",
      "display_name": "Python 3"
    },
    "language_info": {
      "name": "python"
    }
  },
  "cells": [
    {
      "cell_type": "code",
      "source": [
        "import pandas as pd\n",
        "from sklearn.model_selection import train_test_split\n",
        "from tensorflow.keras.models import Sequential\n",
        "from tensorflow.keras.layers import Dense, Dropout\n",
        "from tensorflow.keras.optimizers import Adam\n",
        "from sklearn.preprocessing import LabelEncoder\n",
        "from sklearn.preprocessing import StandardScaler"
      ],
      "metadata": {
        "id": "gwiDpSexCiiy"
      },
      "execution_count": 20,
      "outputs": []
    },
    {
      "cell_type": "code",
      "source": [
        "# Load dataset\n",
        "df = pd.read_csv(\"breastcancer.csv\")\n",
        "\n",
        "# Split dataset into input features and target variable\n",
        "X = df.drop(['diagnosis','id'], axis=1)\n",
        "y = df['diagnosis']\n",
        "\n",
        "# Encode the target variable\n",
        "le = LabelEncoder()\n",
        "y = le.fit_transform(y)\n",
        "\n",
        "# Normalize the input features\n",
        "sc = StandardScaler()\n",
        "X = sc.fit_transform(X)\n",
        "\n",
        "# Split the data into training and testing sets\n",
        "X_train, X_test, y_train, y_test = train_test_split(X, y, test_size=0.2, random_state=42)\n",
        "\n",
        "# Build the model\n",
        "model = Sequential()\n",
        "model.add(Dense(20, input_dim=X_train.shape[1], activation='relu'))\n",
        "model.add(Dense(1, activation='sigmoid'))\n",
        "model.compile(loss='binary_crossentropy', optimizer='adam', metrics=['accuracy'])\n",
        "\n",
        "# Train the model\n",
        "model.fit(X_train, y_train, epochs=100, batch_size=32, verbose=0)\n",
        "\n",
        "# Evaluate the model on the test set\n",
        "_, accuracy = model.evaluate(X_test, y_test, verbose=0)\n",
        "print('Accuracy: %.2f' % (accuracy*100))"
      ],
      "metadata": {
        "colab": {
          "base_uri": "https://localhost:8080/"
        },
        "id": "eGXUXjMsD-GL",
        "outputId": "51ff1948-e8af-43a2-832a-985f614572c7"
      },
      "execution_count": 22,
      "outputs": [
        {
          "output_type": "stream",
          "name": "stderr",
          "text": [
            "/usr/local/lib/python3.9/dist-packages/sklearn/utils/extmath.py:1047: RuntimeWarning: invalid value encountered in true_divide\n",
            "  updated_mean = (last_sum + new_sum) / updated_sample_count\n",
            "/usr/local/lib/python3.9/dist-packages/sklearn/utils/extmath.py:1052: RuntimeWarning: invalid value encountered in true_divide\n",
            "  T = new_sum / new_sample_count\n",
            "/usr/local/lib/python3.9/dist-packages/sklearn/utils/extmath.py:1072: RuntimeWarning: invalid value encountered in true_divide\n",
            "  new_unnormalized_variance -= correction**2 / new_sample_count\n"
          ]
        },
        {
          "output_type": "stream",
          "name": "stdout",
          "text": [
            "Accuracy: 62.28\n"
          ]
        }
      ]
    },
    {
      "cell_type": "code",
      "execution_count": 24,
      "metadata": {
        "colab": {
          "base_uri": "https://localhost:8080/"
        },
        "id": "gQti4m5xCYMD",
        "outputId": "db6029be-7501-45cf-f61e-dfec3df8dbbd"
      },
      "outputs": [
        {
          "output_type": "stream",
          "name": "stderr",
          "text": [
            "/usr/local/lib/python3.9/dist-packages/sklearn/utils/extmath.py:1047: RuntimeWarning: invalid value encountered in true_divide\n",
            "  updated_mean = (last_sum + new_sum) / updated_sample_count\n",
            "/usr/local/lib/python3.9/dist-packages/sklearn/utils/extmath.py:1052: RuntimeWarning: invalid value encountered in true_divide\n",
            "  T = new_sum / new_sample_count\n",
            "/usr/local/lib/python3.9/dist-packages/sklearn/utils/extmath.py:1072: RuntimeWarning: invalid value encountered in true_divide\n",
            "  new_unnormalized_variance -= correction**2 / new_sample_count\n",
            "WARNING:absl:`lr` is deprecated, please use `learning_rate` instead, or use the legacy optimizer, e.g.,tf.keras.optimizers.legacy.Adam.\n"
          ]
        },
        {
          "output_type": "stream",
          "name": "stdout",
          "text": [
            "Epoch 1/50\n",
            "8/8 [==============================] - 1s 37ms/step - loss: nan - accuracy: 0.6286 - val_loss: nan - val_accuracy: 0.6228\n",
            "Epoch 2/50\n",
            "8/8 [==============================] - 0s 11ms/step - loss: nan - accuracy: 0.6286 - val_loss: nan - val_accuracy: 0.6228\n",
            "Epoch 3/50\n",
            "8/8 [==============================] - 0s 8ms/step - loss: nan - accuracy: 0.6286 - val_loss: nan - val_accuracy: 0.6228\n",
            "Epoch 4/50\n",
            "8/8 [==============================] - 0s 8ms/step - loss: nan - accuracy: 0.6286 - val_loss: nan - val_accuracy: 0.6228\n",
            "Epoch 5/50\n",
            "8/8 [==============================] - 0s 9ms/step - loss: nan - accuracy: 0.6286 - val_loss: nan - val_accuracy: 0.6228\n",
            "Epoch 6/50\n",
            "8/8 [==============================] - 0s 11ms/step - loss: nan - accuracy: 0.6286 - val_loss: nan - val_accuracy: 0.6228\n",
            "Epoch 7/50\n",
            "8/8 [==============================] - 0s 9ms/step - loss: nan - accuracy: 0.6286 - val_loss: nan - val_accuracy: 0.6228\n",
            "Epoch 8/50\n",
            "8/8 [==============================] - 0s 10ms/step - loss: nan - accuracy: 0.6286 - val_loss: nan - val_accuracy: 0.6228\n",
            "Epoch 9/50\n",
            "8/8 [==============================] - 0s 10ms/step - loss: nan - accuracy: 0.6286 - val_loss: nan - val_accuracy: 0.6228\n",
            "Epoch 10/50\n",
            "8/8 [==============================] - 0s 9ms/step - loss: nan - accuracy: 0.6286 - val_loss: nan - val_accuracy: 0.6228\n",
            "Epoch 11/50\n",
            "8/8 [==============================] - 0s 11ms/step - loss: nan - accuracy: 0.6286 - val_loss: nan - val_accuracy: 0.6228\n",
            "Epoch 12/50\n",
            "8/8 [==============================] - 0s 10ms/step - loss: nan - accuracy: 0.6286 - val_loss: nan - val_accuracy: 0.6228\n",
            "Epoch 13/50\n",
            "8/8 [==============================] - 0s 11ms/step - loss: nan - accuracy: 0.6286 - val_loss: nan - val_accuracy: 0.6228\n",
            "Epoch 14/50\n",
            "8/8 [==============================] - 0s 11ms/step - loss: nan - accuracy: 0.6286 - val_loss: nan - val_accuracy: 0.6228\n",
            "Epoch 15/50\n",
            "8/8 [==============================] - 0s 11ms/step - loss: nan - accuracy: 0.6286 - val_loss: nan - val_accuracy: 0.6228\n",
            "Epoch 16/50\n",
            "8/8 [==============================] - 0s 12ms/step - loss: nan - accuracy: 0.6286 - val_loss: nan - val_accuracy: 0.6228\n",
            "Epoch 17/50\n",
            "8/8 [==============================] - 0s 11ms/step - loss: nan - accuracy: 0.6286 - val_loss: nan - val_accuracy: 0.6228\n",
            "Epoch 18/50\n",
            "8/8 [==============================] - 0s 8ms/step - loss: nan - accuracy: 0.6286 - val_loss: nan - val_accuracy: 0.6228\n",
            "Epoch 19/50\n",
            "8/8 [==============================] - 0s 8ms/step - loss: nan - accuracy: 0.6286 - val_loss: nan - val_accuracy: 0.6228\n",
            "Epoch 20/50\n",
            "8/8 [==============================] - 0s 10ms/step - loss: nan - accuracy: 0.6286 - val_loss: nan - val_accuracy: 0.6228\n",
            "Epoch 21/50\n",
            "8/8 [==============================] - 0s 8ms/step - loss: nan - accuracy: 0.6286 - val_loss: nan - val_accuracy: 0.6228\n",
            "Epoch 22/50\n",
            "8/8 [==============================] - 0s 9ms/step - loss: nan - accuracy: 0.6286 - val_loss: nan - val_accuracy: 0.6228\n",
            "Epoch 23/50\n",
            "8/8 [==============================] - 0s 8ms/step - loss: nan - accuracy: 0.6286 - val_loss: nan - val_accuracy: 0.6228\n",
            "Epoch 24/50\n",
            "8/8 [==============================] - 0s 8ms/step - loss: nan - accuracy: 0.6286 - val_loss: nan - val_accuracy: 0.6228\n",
            "Epoch 25/50\n",
            "8/8 [==============================] - 0s 11ms/step - loss: nan - accuracy: 0.6286 - val_loss: nan - val_accuracy: 0.6228\n",
            "Epoch 26/50\n",
            "8/8 [==============================] - 0s 8ms/step - loss: nan - accuracy: 0.6286 - val_loss: nan - val_accuracy: 0.6228\n",
            "Epoch 27/50\n",
            "8/8 [==============================] - 0s 10ms/step - loss: nan - accuracy: 0.6286 - val_loss: nan - val_accuracy: 0.6228\n",
            "Epoch 28/50\n",
            "8/8 [==============================] - 0s 10ms/step - loss: nan - accuracy: 0.6286 - val_loss: nan - val_accuracy: 0.6228\n",
            "Epoch 29/50\n",
            "8/8 [==============================] - 0s 8ms/step - loss: nan - accuracy: 0.6286 - val_loss: nan - val_accuracy: 0.6228\n",
            "Epoch 30/50\n",
            "8/8 [==============================] - 0s 10ms/step - loss: nan - accuracy: 0.6286 - val_loss: nan - val_accuracy: 0.6228\n",
            "Epoch 31/50\n",
            "8/8 [==============================] - 0s 8ms/step - loss: nan - accuracy: 0.6286 - val_loss: nan - val_accuracy: 0.6228\n",
            "Epoch 32/50\n",
            "8/8 [==============================] - 0s 8ms/step - loss: nan - accuracy: 0.6286 - val_loss: nan - val_accuracy: 0.6228\n",
            "Epoch 33/50\n",
            "8/8 [==============================] - 0s 10ms/step - loss: nan - accuracy: 0.6286 - val_loss: nan - val_accuracy: 0.6228\n",
            "Epoch 34/50\n",
            "8/8 [==============================] - 0s 8ms/step - loss: nan - accuracy: 0.6286 - val_loss: nan - val_accuracy: 0.6228\n",
            "Epoch 35/50\n",
            "8/8 [==============================] - 0s 8ms/step - loss: nan - accuracy: 0.6286 - val_loss: nan - val_accuracy: 0.6228\n",
            "Epoch 36/50\n",
            "8/8 [==============================] - 0s 8ms/step - loss: nan - accuracy: 0.6286 - val_loss: nan - val_accuracy: 0.6228\n",
            "Epoch 37/50\n",
            "8/8 [==============================] - 0s 10ms/step - loss: nan - accuracy: 0.6286 - val_loss: nan - val_accuracy: 0.6228\n",
            "Epoch 38/50\n",
            "8/8 [==============================] - 0s 10ms/step - loss: nan - accuracy: 0.6286 - val_loss: nan - val_accuracy: 0.6228\n",
            "Epoch 39/50\n",
            "8/8 [==============================] - 0s 8ms/step - loss: nan - accuracy: 0.6286 - val_loss: nan - val_accuracy: 0.6228\n",
            "Epoch 40/50\n",
            "8/8 [==============================] - 0s 8ms/step - loss: nan - accuracy: 0.6286 - val_loss: nan - val_accuracy: 0.6228\n",
            "Epoch 41/50\n",
            "8/8 [==============================] - 0s 9ms/step - loss: nan - accuracy: 0.6286 - val_loss: nan - val_accuracy: 0.6228\n",
            "Epoch 42/50\n",
            "8/8 [==============================] - 0s 8ms/step - loss: nan - accuracy: 0.6286 - val_loss: nan - val_accuracy: 0.6228\n",
            "Epoch 43/50\n",
            "8/8 [==============================] - 0s 8ms/step - loss: nan - accuracy: 0.6286 - val_loss: nan - val_accuracy: 0.6228\n",
            "Epoch 44/50\n",
            "8/8 [==============================] - 0s 9ms/step - loss: nan - accuracy: 0.6286 - val_loss: nan - val_accuracy: 0.6228\n",
            "Epoch 45/50\n",
            "8/8 [==============================] - 0s 8ms/step - loss: nan - accuracy: 0.6286 - val_loss: nan - val_accuracy: 0.6228\n",
            "Epoch 46/50\n",
            "8/8 [==============================] - 0s 8ms/step - loss: nan - accuracy: 0.6286 - val_loss: nan - val_accuracy: 0.6228\n",
            "Epoch 47/50\n",
            "8/8 [==============================] - 0s 9ms/step - loss: nan - accuracy: 0.6286 - val_loss: nan - val_accuracy: 0.6228\n",
            "Epoch 48/50\n",
            "8/8 [==============================] - 0s 9ms/step - loss: nan - accuracy: 0.6286 - val_loss: nan - val_accuracy: 0.6228\n",
            "Epoch 49/50\n",
            "8/8 [==============================] - 0s 8ms/step - loss: nan - accuracy: 0.6286 - val_loss: nan - val_accuracy: 0.6228\n",
            "Epoch 50/50\n",
            "8/8 [==============================] - 0s 8ms/step - loss: nan - accuracy: 0.6286 - val_loss: nan - val_accuracy: 0.6228\n",
            "4/4 [==============================] - 0s 4ms/step - loss: nan - accuracy: 0.6228\n",
            "Accuracy: 0.6228070259094238\n"
          ]
        }
      ],
      "source": [
        "\n",
        "df = pd.read_csv('breastcancer.csv')\n",
        "\n",
        "# split the dataset into input features and target variable\n",
        "X = df.drop(['id','diagnosis'], axis=1)\n",
        "y = df['diagnosis']\n",
        "\n",
        "# Encode the target variable\n",
        "le = LabelEncoder()\n",
        "y = le.fit_transform(y)\n",
        "\n",
        "# split the dataset into train and test sets\n",
        "X_train, X_test, y_train, y_test = train_test_split(X, y, test_size=0.2, random_state=42)\n",
        "\n",
        "sc = StandardScaler()\n",
        "X = sc.fit_transform(X)\n",
        "\n",
        "# define the model\n",
        "model = Sequential([\n",
        "    Dense(32, activation='relu', input_shape=(X_train.shape[1],)),\n",
        "    Dropout(0.5),\n",
        "    Dense(16, activation='relu'),\n",
        "    Dropout(0.5),\n",
        "    Dense(1, activation='sigmoid')\n",
        "])\n",
        "\n",
        "# compile the model\n",
        "optimizer = Adam(lr=0.001)\n",
        "model.compile(optimizer=optimizer, loss='binary_crossentropy', metrics=['accuracy'])\n",
        "\n",
        "# fit the model\n",
        "model.fit(X_train, y_train, epochs=50, batch_size=64, validation_data=(X_test, y_test))\n",
        "\n",
        "# evaluate the model\n",
        "loss, accuracy = model.evaluate(X_test, y_test)\n",
        "print(f\"Accuracy: {accuracy}\")"
      ]
    }
  ]
}